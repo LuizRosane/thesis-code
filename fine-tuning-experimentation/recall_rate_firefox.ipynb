{
 "cells": [
  {
   "cell_type": "code",
   "execution_count": 1,
   "metadata": {},
   "outputs": [],
   "source": [
    "import pandas as pd\n",
    "import numpy as np\n",
    "from torch import device, cuda, Tensor, tensor, zeros, save, load\n",
    "from sentence_transformers import SentenceTransformer, util"
   ]
  },
  {
   "cell_type": "code",
   "execution_count": 2,
   "metadata": {},
   "outputs": [],
   "source": [
    "from tools import tools"
   ]
  },
  {
   "cell_type": "code",
   "execution_count": 3,
   "metadata": {},
   "outputs": [],
   "source": [
    "model_name = 'all-mpnet-base-v2'"
   ]
  },
  {
   "cell_type": "code",
   "execution_count": 4,
   "metadata": {},
   "outputs": [
    {
     "data": {
      "text/plain": [
       "device(type='cuda')"
      ]
     },
     "execution_count": 4,
     "metadata": {},
     "output_type": "execute_result"
    }
   ],
   "source": [
    "device = device('cuda' if cuda.is_available() else 'cpu')\n",
    "device"
   ]
  },
  {
   "cell_type": "code",
   "execution_count": 5,
   "metadata": {},
   "outputs": [],
   "source": [
    "reports_file_path = 'data/br/firefox/firefox.csv'\n",
    "relations_file_path = 'data/br/firefox/firefox_pairs.csv'\n",
    "\n",
    "reports_firefox = pd.read_csv(reports_file_path, index_col='bug_id')\n",
    "relations_firefox = pd.read_csv(relations_file_path)"
   ]
  },
  {
   "cell_type": "code",
   "execution_count": 6,
   "metadata": {},
   "outputs": [],
   "source": [
    "embeddings_file_path = 'firefox_mpnet_embeddings.csv'\n",
    "embeddings_firefox = pd.read_csv(\n",
    "        embeddings_file_path, \n",
    "        index_col='bug_id'        \n",
    "    )"
   ]
  },
  {
   "cell_type": "code",
   "execution_count": 7,
   "metadata": {},
   "outputs": [],
   "source": [
    "def string_to_tensor(input_data):\n",
    "    if input_data == 'nan' or input_data == None: #or (isinstance(input_data, float) and np.isnan(input_data)):\n",
    "        # Return a default tensor for NaN values\n",
    "        # Adjust the size of the tensor as needed\n",
    "        return zeros((1,))  # Example: a tensor of size 1 with zeros\n",
    "    elif isinstance(input_data, str):\n",
    "        array = np.fromstring(input_data[1:-1], sep=' ')\n",
    "        return tensor(array)\n",
    "    elif isinstance(input_data, (int, float, list, np.ndarray)):\n",
    "        return tensor(input_data)\n",
    "    else:\n",
    "        raise TypeError(f\"Unsupported type for conversion to tensor: {type(input_data)}\")"
   ]
  },
  {
   "cell_type": "code",
   "execution_count": 8,
   "metadata": {},
   "outputs": [
    {
     "name": "stderr",
     "output_type": "stream",
     "text": [
      "C:\\Users\\lpros\\AppData\\Local\\Temp\\ipykernel_18892\\340503249.py:2: UserWarning: To copy construct from a tensor, it is recommended to use sourceTensor.clone().detach() or sourceTensor.clone().detach().requires_grad_(True), rather than torch.tensor(sourceTensor).\n",
      "  lambda x: tensor(\n"
     ]
    }
   ],
   "source": [
    "embeddings_firefox[model_name] = embeddings_firefox[model_name].apply(\n",
    "    lambda x: tensor(\n",
    "        string_to_tensor(x)\n",
    "    )\n",
    ")"
   ]
  },
  {
   "cell_type": "code",
   "execution_count": 9,
   "metadata": {},
   "outputs": [
    {
     "name": "stdout",
     "output_type": "stream",
     "text": [
      "127244\n"
     ]
    },
    {
     "name": "stderr",
     "output_type": "stream",
     "text": [
      "C:\\Users\\lpros\\AppData\\Local\\Temp\\ipykernel_18892\\3391872290.py:7: FutureWarning: Series.__getitem__ treating keys as positions is deprecated. In a future version, integer keys will always be treated as labels (consistent with DataFrame behavior). To access a value by position, use `ser.iloc[pos]`\n",
      "  bug_id = row[0]\n",
      "C:\\Users\\lpros\\AppData\\Local\\Temp\\ipykernel_18892\\3391872290.py:9: FutureWarning: Series.__getitem__ treating keys as positions is deprecated. In a future version, integer keys will always be treated as labels (consistent with DataFrame behavior). To access a value by position, use `ser.iloc[pos]`\n",
      "  if ( not pd.isna(row[1])):\n",
      "C:\\Users\\lpros\\AppData\\Local\\Temp\\ipykernel_18892\\3391872290.py:13: FutureWarning: Series.__getitem__ treating keys as positions is deprecated. In a future version, integer keys will always be treated as labels (consistent with DataFrame behavior). To access a value by position, use `ser.iloc[pos]`\n",
      "  int(x) for x in row[1].split(\";\") if int(x) in reports_firefox.index\n"
     ]
    },
    {
     "data": {
      "text/plain": [
       "{216966, 257364, 316329, 344035}"
      ]
     },
     "execution_count": 9,
     "metadata": {},
     "output_type": "execute_result"
    }
   ],
   "source": [
    "i = 0\n",
    "duplicate_ids = []\n",
    "bug_id = 0\n",
    "count = 0\n",
    "for index, row in relations_firefox.iterrows():\n",
    "\n",
    "    bug_id = row[0]\n",
    "\n",
    "    if ( not pd.isna(row[1])):\n",
    "\n",
    "        if (count == 9):\n",
    "            duplicate_ids = [\n",
    "                int(x) for x in row[1].split(\";\") if int(x) in reports_firefox.index\n",
    "            ]\n",
    "\n",
    "            duplicate_ids = set(duplicate_ids)\n",
    "            break\n",
    "        else:\n",
    "            count+=1\n",
    "\n",
    "print(bug_id)\n",
    "    \n",
    "        \n",
    "duplicate_ids"
   ]
  },
  {
   "cell_type": "code",
   "execution_count": 10,
   "metadata": {},
   "outputs": [
    {
     "data": {
      "text/plain": [
       "all-mpnet-base-v2    [tensor(0.0002, dtype=torch.float64), tensor(-...\n",
       "Name: 127244, dtype: object"
      ]
     },
     "execution_count": 10,
     "metadata": {},
     "output_type": "execute_result"
    }
   ],
   "source": [
    "prompt = embeddings_firefox.loc[bug_id]\n",
    "prompt"
   ]
  },
  {
   "cell_type": "code",
   "execution_count": null,
   "metadata": {},
   "outputs": [],
   "source": []
  },
  {
   "cell_type": "code",
   "execution_count": null,
   "metadata": {},
   "outputs": [],
   "source": []
  },
  {
   "cell_type": "code",
   "execution_count": 11,
   "metadata": {},
   "outputs": [
    {
     "data": {
      "text/plain": [
       "torch.Tensor"
      ]
     },
     "execution_count": 11,
     "metadata": {},
     "output_type": "execute_result"
    }
   ],
   "source": [
    "type(embeddings_firefox.iloc[0][model_name])"
   ]
  },
  {
   "cell_type": "code",
   "execution_count": 12,
   "metadata": {},
   "outputs": [],
   "source": [
    "tensor_dict = embeddings_firefox[model_name].to_dict()"
   ]
  },
  {
   "cell_type": "code",
   "execution_count": 13,
   "metadata": {},
   "outputs": [],
   "source": [
    "save(tensor_dict, 'firefox_embeddings_torch_file.pt')"
   ]
  },
  {
   "cell_type": "code",
   "execution_count": 14,
   "metadata": {},
   "outputs": [],
   "source": [
    "load_tensor_dict = load('firefox_embeddings_torch_file.pt')"
   ]
  },
  {
   "cell_type": "code",
   "execution_count": 15,
   "metadata": {},
   "outputs": [
    {
     "data": {
      "text/plain": [
       "torch.Tensor"
      ]
     },
     "execution_count": 15,
     "metadata": {},
     "output_type": "execute_result"
    }
   ],
   "source": [
    "type(embeddings_firefox.iloc[0][model_name])\n",
    "#prompt[model_name] = string_to_tensor(prompt[model_name])\n",
    "type(prompt[model_name])"
   ]
  },
  {
   "cell_type": "code",
   "execution_count": 16,
   "metadata": {},
   "outputs": [
    {
     "data": {
      "text/plain": [
       "0.75"
      ]
     },
     "execution_count": 16,
     "metadata": {},
     "output_type": "execute_result"
    }
   ],
   "source": [
    "tools.rr_k(prompt=prompt, df=embeddings_firefox, model_name=model_name, duplicate_ids=duplicate_ids, k=10)"
   ]
  },
  {
   "cell_type": "code",
   "execution_count": 17,
   "metadata": {},
   "outputs": [
    {
     "data": {
      "text/plain": [
       "0.75"
      ]
     },
     "execution_count": 17,
     "metadata": {},
     "output_type": "execute_result"
    }
   ],
   "source": [
    "tools.rr_k_dict(prompt=prompt[model_name],tensor_dict=load_tensor_dict, model_name=model_name, duplicate_ids=duplicate_ids, k=10 )"
   ]
  },
  {
   "cell_type": "code",
   "execution_count": null,
   "metadata": {},
   "outputs": [],
   "source": []
  }
 ],
 "metadata": {
  "kernelspec": {
   "display_name": "Python 3",
   "language": "python",
   "name": "python3"
  },
  "language_info": {
   "codemirror_mode": {
    "name": "ipython",
    "version": 3
   },
   "file_extension": ".py",
   "mimetype": "text/x-python",
   "name": "python",
   "nbconvert_exporter": "python",
   "pygments_lexer": "ipython3",
   "version": "3.10.7"
  }
 },
 "nbformat": 4,
 "nbformat_minor": 2
}
