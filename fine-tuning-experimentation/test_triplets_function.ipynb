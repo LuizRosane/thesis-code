{
 "cells": [
  {
   "cell_type": "code",
   "execution_count": 1,
   "metadata": {},
   "outputs": [],
   "source": [
    "from sklearn.model_selection import train_test_split\n",
    "from sentence_transformers import InputExample\n",
    "\n",
    "import pandas as pd\n",
    "import pickle"
   ]
  },
  {
   "cell_type": "code",
   "execution_count": 170,
   "metadata": {},
   "outputs": [],
   "source": [
    "reports_file_path = 'data/br/openoffice/openoffice.csv'\n",
    "relations_file_path = 'data/br/openoffice/openoffice_pairs.csv'\n",
    "\n",
    "train_file_path = 'data/splits/openoffice/openoffice_train.csv'\n",
    "\n",
    "reports_openoffice = pd.read_csv(reports_file_path, index_col='bug_id')\n",
    "relations_openoffice = pd.read_csv(relations_file_path, index_col='issue_id')\n",
    "\n",
    "train = pd.read_csv(train_file_path, index_col='bug_id')"
   ]
  },
  {
   "cell_type": "code",
   "execution_count": 2,
   "metadata": {},
   "outputs": [],
   "source": [
    "def generate_triplets(reports, relations):\n",
    "    duplicates_pairs_set = set()\n",
    "    train_examples = []\n",
    "    for index, value in reports.iterrows():\n",
    "        if index in relations.index:\n",
    "            duplicates_id = []\n",
    "            try:\n",
    "                duplicates_id = [int(id) for id in relations.loc[index].values[0].split(';')]\n",
    "            except:\n",
    "                duplicates_id = []\n",
    "\n",
    "            for id in duplicates_id:\n",
    "                if id in reports.index:\n",
    "\n",
    "                    duplicates_pair = tuple(sorted([index, id]))\n",
    "\n",
    "                    if duplicates_pair not in duplicates_pairs_set:\n",
    "\n",
    "                        duplicates_pairs_set.add(duplicates_pair)\n",
    "\n",
    "                        positive = reports.loc[id]\n",
    "                        negative = reports.sample(n=1).iloc[0]\n",
    "                        \n",
    "                        while (int(negative.name) == index) or (int(negative.name) in duplicates_id) or (not isinstance(negative['description'], str)):\n",
    "                            negative = reports.sample(n=1).iloc[0]\n",
    "\n",
    "                        if isinstance(value['description'], str) and isinstance(positive['description'], str):\n",
    "                            train_examples.append(\n",
    "                                InputExample(texts=[\n",
    "                                    value['description'],\n",
    "                                    positive['description'],\n",
    "                                    negative['description']\n",
    "                                ])\n",
    "                            )\n",
    "\n",
    "                        else:\n",
    "                            print('save')\n",
    "                        \n",
    "    return train_examples"
   ]
  },
  {
   "cell_type": "code",
   "execution_count": 8,
   "metadata": {},
   "outputs": [
    {
     "data": {
      "text/html": [
       "<div>\n",
       "<style scoped>\n",
       "    .dataframe tbody tr th:only-of-type {\n",
       "        vertical-align: middle;\n",
       "    }\n",
       "\n",
       "    .dataframe tbody tr th {\n",
       "        vertical-align: top;\n",
       "    }\n",
       "\n",
       "    .dataframe thead th {\n",
       "        text-align: right;\n",
       "    }\n",
       "</style>\n",
       "<table border=\"1\" class=\"dataframe\">\n",
       "  <thead>\n",
       "    <tr style=\"text-align: right;\">\n",
       "      <th></th>\n",
       "      <th>bug_severity</th>\n",
       "      <th>bug_status</th>\n",
       "      <th>component</th>\n",
       "      <th>creation_ts</th>\n",
       "      <th>delta_ts</th>\n",
       "      <th>description</th>\n",
       "      <th>dup_id</th>\n",
       "      <th>priority</th>\n",
       "      <th>product</th>\n",
       "      <th>resolution</th>\n",
       "      <th>short_desc</th>\n",
       "      <th>version</th>\n",
       "    </tr>\n",
       "    <tr>\n",
       "      <th>bug_id</th>\n",
       "      <th></th>\n",
       "      <th></th>\n",
       "      <th></th>\n",
       "      <th></th>\n",
       "      <th></th>\n",
       "      <th></th>\n",
       "      <th></th>\n",
       "      <th></th>\n",
       "      <th></th>\n",
       "      <th></th>\n",
       "      <th></th>\n",
       "      <th></th>\n",
       "    </tr>\n",
       "  </thead>\n",
       "  <tbody>\n",
       "    <tr>\n",
       "      <th>13</th>\n",
       "      <td>trivial</td>\n",
       "      <td>CLOSED</td>\n",
       "      <td>code</td>\n",
       "      <td>2000-10-16 18:33:00 +0000</td>\n",
       "      <td>2003-12-06 14:52:32 +0000</td>\n",
       "      <td>I need to see if this works, sorry.</td>\n",
       "      <td>[]</td>\n",
       "      <td>P4</td>\n",
       "      <td>Calc</td>\n",
       "      <td>NOT_AN_ISSUE</td>\n",
       "      <td>Test bug: Cell color is wrong</td>\n",
       "      <td>605</td>\n",
       "    </tr>\n",
       "    <tr>\n",
       "      <th>14</th>\n",
       "      <td>trivial</td>\n",
       "      <td>CLOSED</td>\n",
       "      <td>Website general issues</td>\n",
       "      <td>2000-10-17 19:40:00 +0000</td>\n",
       "      <td>2006-02-07 22:23:55 +0000</td>\n",
       "      <td>it would be nice if the combination of OpenOff...</td>\n",
       "      <td>[]</td>\n",
       "      <td>P3</td>\n",
       "      <td>Infrastructure</td>\n",
       "      <td>FIXED</td>\n",
       "      <td>openoffice.org issuezillla URL's display a hor...</td>\n",
       "      <td>current</td>\n",
       "    </tr>\n",
       "  </tbody>\n",
       "</table>\n",
       "</div>"
      ],
      "text/plain": [
       "       bug_severity bug_status               component  \\\n",
       "bug_id                                                   \n",
       "13          trivial     CLOSED                    code   \n",
       "14          trivial     CLOSED  Website general issues   \n",
       "\n",
       "                      creation_ts                   delta_ts  \\\n",
       "bug_id                                                         \n",
       "13      2000-10-16 18:33:00 +0000  2003-12-06 14:52:32 +0000   \n",
       "14      2000-10-17 19:40:00 +0000  2006-02-07 22:23:55 +0000   \n",
       "\n",
       "                                              description dup_id priority  \\\n",
       "bug_id                                                                      \n",
       "13                    I need to see if this works, sorry.     []       P4   \n",
       "14      it would be nice if the combination of OpenOff...     []       P3   \n",
       "\n",
       "               product    resolution  \\\n",
       "bug_id                                 \n",
       "13                Calc  NOT_AN_ISSUE   \n",
       "14      Infrastructure         FIXED   \n",
       "\n",
       "                                               short_desc  version  \n",
       "bug_id                                                              \n",
       "13                          Test bug: Cell color is wrong      605  \n",
       "14      openoffice.org issuezillla URL's display a hor...  current  "
      ]
     },
     "execution_count": 8,
     "metadata": {},
     "output_type": "execute_result"
    }
   ],
   "source": [
    "reports_openoffice.head(2)"
   ]
  },
  {
   "cell_type": "code",
   "execution_count": 149,
   "metadata": {},
   "outputs": [
    {
     "data": {
      "text/plain": [
       "{'description': {13: 'I need to see if this works, sorry.',\n",
       "  14: 'it would be nice if the combination of OpenOffice.org gif and \"IssueZilla:\" \\ntext could be artfully combined with better matching alignment, color and font.\\nI tried playing with vertical alignment and it didn\\'t help. \\nIt seemed bogus to spend much time trying to align the OOo gif with the text\\nsince it would still look bad anyways in some other browser.\\n\\nI\\'m hoping to get some graphics assistance to make this look better.\\n\\nNote, see http://www.openoffice.org/issues/editparams.cgi \\'bannerhtml\\'\\nand \\'blurbhtml\\' parameters for where this information is set. It\\'s not like we\\ncan\\'t easily set the HTML different, so anybody has a suggestion for',\n",
       "  15: 'this task is just a test\\nthis task is just athis task is just a test\\n test\\nathisathistthis task is just a test\\nthis task is just athis task is just a test\\n testthis task is justhis task is just a test\\nthis task is just athis task is just a test\\n test\\nathisathist a test\\nthis task is just athis task is just a test\\n test\\nathisathis\\nathisathishis task is just a test\\nthis task is just thisthis task is just a test\\nthis task is just athis task is just a test\\n test\\nathisathis task is just a test\\nthis task is just athis task is just a test\\n testthis task is just a test\\nthis task is just athis task is just a test\\n test\\nathisathis\\nathisathisathis task is just a test\\n testthis task is just a test\\nthis task is just athis task is just a test\\n test\\nathisathis\\nathisathis',\n",
       "  16: 'Using the ADMIN link on the main page leads to a connection error to \\nwww.openoffice.org:8080',\n",
       "  17: 'Entered into Issuezilla for tracking purposes.\\nThanks Shane\\n\\n\\nFrom: Martin Hollmichel <Martin.Hollmichel@germany.sun.com>\\nSubject: CVSROOT/modules\\nTo: shane@collab.net\\nDate: Fri, 20 Oct 2000 15:19:20 GMT\\nDelivered-To: shane@collab.net\\nX-Mailer: Mozilla/3.0 (compatible; StarOffice/5.2;Solaris SPARC)\\n\\nHi Shane,\\n\\nfor our  internal processes we need the following additions to the\\nmodules file:\\n \\n===================================================================\\nRCS file: /cvs/CVSROOT/modules,v\\nretrieving revision 1.33\\ndiff -r1.33 modules\\n5a6\\n> i18n_simple   L10N/i18n\\n51a53\\n> xprinter_stub printing/xprinter\\n61a64\\n> lingu_stub    sw/lingu\\n75a79\\n> ldapber_stub  ucb/ldapber\\n100a105\\n> external_stub util/external\\n104a110\\n> automation_simple    util/automation\\n\\n\\nThank you,\\n        Martin'},\n",
       " 'bug_status': {13: 'CLOSED',\n",
       "  14: 'CLOSED',\n",
       "  15: 'CLOSED',\n",
       "  16: 'CLOSED',\n",
       "  17: 'CLOSED'}}"
      ]
     },
     "execution_count": 149,
     "metadata": {},
     "output_type": "execute_result"
    }
   ],
   "source": [
    "reports_openoffice[0:5][['description', 'bug_status']].to_dict()"
   ]
  },
  {
   "cell_type": "code",
   "execution_count": 19,
   "metadata": {},
   "outputs": [
    {
     "data": {
      "text/html": [
       "<div>\n",
       "<style scoped>\n",
       "    .dataframe tbody tr th:only-of-type {\n",
       "        vertical-align: middle;\n",
       "    }\n",
       "\n",
       "    .dataframe tbody tr th {\n",
       "        vertical-align: top;\n",
       "    }\n",
       "\n",
       "    .dataframe thead th {\n",
       "        text-align: right;\n",
       "    }\n",
       "</style>\n",
       "<table border=\"1\" class=\"dataframe\">\n",
       "  <thead>\n",
       "    <tr style=\"text-align: right;\">\n",
       "      <th></th>\n",
       "      <th>duplicate</th>\n",
       "    </tr>\n",
       "    <tr>\n",
       "      <th>issue_id</th>\n",
       "      <th></th>\n",
       "    </tr>\n",
       "  </thead>\n",
       "  <tbody>\n",
       "    <tr>\n",
       "      <th>51549</th>\n",
       "      <td>52538;51703;51446;51937;51488;51722;51704;5145...</td>\n",
       "    </tr>\n",
       "    <tr>\n",
       "      <th>37805</th>\n",
       "      <td>37411;36327;37026;37521;37706;37663;36862;37707</td>\n",
       "    </tr>\n",
       "  </tbody>\n",
       "</table>\n",
       "</div>"
      ],
      "text/plain": [
       "                                                  duplicate\n",
       "issue_id                                                   \n",
       "51549     52538;51703;51446;51937;51488;51722;51704;5145...\n",
       "37805       37411;36327;37026;37521;37706;37663;36862;37707"
      ]
     },
     "execution_count": 19,
     "metadata": {},
     "output_type": "execute_result"
    }
   ],
   "source": [
    "relations_openoffice.head(2)"
   ]
  },
  {
   "cell_type": "code",
   "execution_count": 7,
   "metadata": {},
   "outputs": [
    {
     "data": {
      "text/plain": [
       "{'duplicate': {51549: '52538;51703;51446;51937;51488;51722;51704;51452;51824;51604;51595;51591',\n",
       "  37805: '37411;36327;37026;37521;37706;37663;36862;37707',\n",
       "  88488: '54568;35616;111788;79244;51118;59483;63653',\n",
       "  495: nan,\n",
       "  17628: '21822;6259;20644;19045;19420;23937;34990;6036;34148;17730;51547;13621;43963;11096;39750;19888;28170;7390;4930;16832;5009;2109;23787;22256;25764;35249;35039;18593;18131;10188;39670;17941;4746;8873;18296;12823;13060;6008;5142;39496;17108;23807;20737;28844;28305;22223;19421;4693;21779;36239;7764;24155;15181;24263;19433;5008;27754;19422;9557;10306;34523;9646;14818;17742;13688;18534;20106;37566;23689;32302;21656'}}"
      ]
     },
     "execution_count": 7,
     "metadata": {},
     "output_type": "execute_result"
    }
   ],
   "source": [
    "relations_openoffice[0:5].to_dict()"
   ]
  },
  {
   "cell_type": "code",
   "execution_count": 12,
   "metadata": {},
   "outputs": [],
   "source": [
    "reports_sim_dict = {\n",
    "    'description': {\n",
    "        1: \"This is a report\",\n",
    "        2: \"This is another report\",\n",
    "        3: \"I need help with this\",\n",
    "        4: \"I can't fix this\",\n",
    "        5: \"What is happening?\"\n",
    "    }\n",
    "}\n",
    "\n",
    "relations_sim_dict = {\n",
    "    'duplicate': {\n",
    "        1: '2',\n",
    "        2: '1',\n",
    "        3: '4;5',\n",
    "        4: '3'\n",
    "    }\n",
    "}"
   ]
  },
  {
   "cell_type": "code",
   "execution_count": 20,
   "metadata": {},
   "outputs": [],
   "source": [
    "reports_sim = pd.DataFrame(reports_sim_dict)\n",
    "reports_sim.rename_axis('bug_id', inplace=True)\n",
    "\n",
    "\n",
    "relations_sim = pd.DataFrame(relations_sim_dict)\n",
    "relations_sim.rename_axis('issue_id', inplace=True)"
   ]
  },
  {
   "cell_type": "code",
   "execution_count": 21,
   "metadata": {},
   "outputs": [
    {
     "data": {
      "text/html": [
       "<div>\n",
       "<style scoped>\n",
       "    .dataframe tbody tr th:only-of-type {\n",
       "        vertical-align: middle;\n",
       "    }\n",
       "\n",
       "    .dataframe tbody tr th {\n",
       "        vertical-align: top;\n",
       "    }\n",
       "\n",
       "    .dataframe thead th {\n",
       "        text-align: right;\n",
       "    }\n",
       "</style>\n",
       "<table border=\"1\" class=\"dataframe\">\n",
       "  <thead>\n",
       "    <tr style=\"text-align: right;\">\n",
       "      <th></th>\n",
       "      <th>duplicate</th>\n",
       "    </tr>\n",
       "    <tr>\n",
       "      <th>issue_id</th>\n",
       "      <th></th>\n",
       "    </tr>\n",
       "  </thead>\n",
       "  <tbody>\n",
       "    <tr>\n",
       "      <th>1</th>\n",
       "      <td>2</td>\n",
       "    </tr>\n",
       "    <tr>\n",
       "      <th>2</th>\n",
       "      <td>1</td>\n",
       "    </tr>\n",
       "    <tr>\n",
       "      <th>3</th>\n",
       "      <td>4;5</td>\n",
       "    </tr>\n",
       "    <tr>\n",
       "      <th>4</th>\n",
       "      <td>3</td>\n",
       "    </tr>\n",
       "  </tbody>\n",
       "</table>\n",
       "</div>"
      ],
      "text/plain": [
       "         duplicate\n",
       "issue_id          \n",
       "1                2\n",
       "2                1\n",
       "3              4;5\n",
       "4                3"
      ]
     },
     "execution_count": 21,
     "metadata": {},
     "output_type": "execute_result"
    }
   ],
   "source": [
    "relations_sim"
   ]
  },
  {
   "cell_type": "code",
   "execution_count": 165,
   "metadata": {},
   "outputs": [],
   "source": [
    "input_ex = generate_triplets(reports_sim, relations_sim)"
   ]
  },
  {
   "cell_type": "code",
   "execution_count": 166,
   "metadata": {},
   "outputs": [
    {
     "data": {
      "text/plain": [
       "3"
      ]
     },
     "execution_count": 166,
     "metadata": {},
     "output_type": "execute_result"
    }
   ],
   "source": [
    "len(input_ex)"
   ]
  },
  {
   "cell_type": "code",
   "execution_count": 167,
   "metadata": {},
   "outputs": [
    {
     "data": {
      "text/plain": [
       "['This is a report', 'This is another report', \"I can't fix this\"]"
      ]
     },
     "execution_count": 167,
     "metadata": {},
     "output_type": "execute_result"
    }
   ],
   "source": [
    "input_ex[0].texts"
   ]
  },
  {
   "cell_type": "code",
   "execution_count": 168,
   "metadata": {},
   "outputs": [
    {
     "data": {
      "text/plain": [
       "['I need help with this', \"I can't fix this\", 'This is another report']"
      ]
     },
     "execution_count": 168,
     "metadata": {},
     "output_type": "execute_result"
    }
   ],
   "source": [
    "input_ex[1].texts"
   ]
  },
  {
   "cell_type": "code",
   "execution_count": 169,
   "metadata": {},
   "outputs": [
    {
     "data": {
      "text/plain": [
       "['I need help with this', 'What is happening?', 'This is another report']"
      ]
     },
     "execution_count": 169,
     "metadata": {},
     "output_type": "execute_result"
    }
   ],
   "source": [
    "input_ex[2].texts"
   ]
  },
  {
   "cell_type": "code",
   "execution_count": 55,
   "metadata": {},
   "outputs": [],
   "source": [
    "reports_sim_dict2 = {\n",
    "    'description': {\n",
    "        1: \"This is a report\",\n",
    "        2: \"This is another report\",\n",
    "        3: \"I need help with this\"\n",
    "    }\n",
    "}\n",
    "\n",
    "relations_sim_dict2 = {\n",
    "    'duplicate': {\n",
    "        1: '2',\n",
    "        2: '1'\n",
    "    }\n",
    "}\n",
    "\n",
    "reports_sim2 = pd.DataFrame(reports_sim_dict2)\n",
    "reports_sim2.rename_axis('bug_id', inplace=True)\n",
    "\n",
    "\n",
    "relations_sim2 = pd.DataFrame(relations_sim_dict2)\n",
    "relations_sim2.rename_axis('issue_id', inplace=True)"
   ]
  },
  {
   "cell_type": "code",
   "execution_count": 183,
   "metadata": {},
   "outputs": [],
   "source": [
    "test = generate_triplets(reports_sim2, relations_sim2)"
   ]
  },
  {
   "cell_type": "code",
   "execution_count": 184,
   "metadata": {},
   "outputs": [
    {
     "data": {
      "text/plain": [
       "['This is a report', 'This is another report', 'I need help with this']"
      ]
     },
     "execution_count": 184,
     "metadata": {},
     "output_type": "execute_result"
    }
   ],
   "source": [
    "test[0].texts"
   ]
  },
  {
   "cell_type": "code",
   "execution_count": 102,
   "metadata": {},
   "outputs": [
    {
     "data": {
      "text/plain": [
       "int"
      ]
     },
     "execution_count": 102,
     "metadata": {},
     "output_type": "execute_result"
    }
   ],
   "source": [
    "type(int(reports_sim2.loc[1].name))"
   ]
  },
  {
   "cell_type": "code",
   "execution_count": 103,
   "metadata": {},
   "outputs": [
    {
     "name": "stdout",
     "output_type": "stream",
     "text": [
      "<class 'int'>\n",
      "<class 'int'>\n",
      "<class 'int'>\n"
     ]
    }
   ],
   "source": [
    "for index, row in reports_sim2.iterrows():\n",
    "    print(type(index))"
   ]
  },
  {
   "cell_type": "code",
   "execution_count": 171,
   "metadata": {},
   "outputs": [
    {
     "data": {
      "text/plain": [
       "48054"
      ]
     },
     "execution_count": 171,
     "metadata": {},
     "output_type": "execute_result"
    }
   ],
   "source": [
    "len(train)"
   ]
  },
  {
   "cell_type": "code",
   "execution_count": 173,
   "metadata": {},
   "outputs": [],
   "source": [
    "trip = generate_triplets(train, relations_openoffice)"
   ]
  },
  {
   "cell_type": "code",
   "execution_count": 174,
   "metadata": {},
   "outputs": [
    {
     "data": {
      "text/plain": [
       "13996"
      ]
     },
     "execution_count": 174,
     "metadata": {},
     "output_type": "execute_result"
    }
   ],
   "source": [
    "len(trip)"
   ]
  },
  {
   "cell_type": "code",
   "execution_count": 3,
   "metadata": {},
   "outputs": [],
   "source": [
    "train_file_path = 'data/splits/eclipse/eclipse_train.csv'\n",
    "relations_file_path = 'data/br/eclipse/eclipse_pairs.csv'\n",
    "\n",
    "reports_train_eclipse = pd.read_csv(train_file_path, index_col='bug_id')\n",
    "relations_eclipse = pd.read_csv(relations_file_path, index_col='issue_id')"
   ]
  },
  {
   "cell_type": "code",
   "execution_count": 4,
   "metadata": {},
   "outputs": [],
   "source": [
    "train_file_path = 'data/splits/openoffice/openoffice_train.csv'\n",
    "relations_file_path = 'data/br/openoffice/openoffice_pairs.csv'\n",
    "\n",
    "reports_train_openoffice = pd.read_csv(train_file_path, index_col='bug_id')\n",
    "relations_openoffice = pd.read_csv(relations_file_path, index_col='issue_id')"
   ]
  },
  {
   "cell_type": "code",
   "execution_count": 5,
   "metadata": {},
   "outputs": [],
   "source": [
    "train_file_path = 'data/splits/firefox/firefox_train.csv'\n",
    "relations_file_path = 'data/br/firefox/firefox_pairs.csv'\n",
    "\n",
    "reports_train_firefox = pd.read_csv(train_file_path, index_col='bug_id')\n",
    "relations_firefox = pd.read_csv(relations_file_path, index_col='issue_id')"
   ]
  },
  {
   "cell_type": "code",
   "execution_count": 7,
   "metadata": {},
   "outputs": [],
   "source": [
    "train_file_path = './data/splits/netbeans/netbeans_train.csv'\n",
    "relations_file_path = 'data/br/netbeans/netbeans_pairs - Copia.csv'\n",
    "\n",
    "reports_train_netbeans = pd.read_csv(train_file_path, index_col='bug_id')\n",
    "relations_netbeans = pd.read_csv(relations_file_path, index_col='issue_id')"
   ]
  },
  {
   "cell_type": "code",
   "execution_count": 8,
   "metadata": {},
   "outputs": [],
   "source": [
    "datasets = {}"
   ]
  },
  {
   "cell_type": "code",
   "execution_count": 9,
   "metadata": {},
   "outputs": [],
   "source": [
    "datasets['eclipse'] = {\n",
    "    'reports': reports_train_eclipse,\n",
    "    'relations': relations_eclipse\n",
    "}\n",
    "\n",
    "datasets['openoffice'] = {\n",
    "    'reports': reports_train_openoffice,\n",
    "    'relations': relations_openoffice\n",
    "}\n",
    "\n",
    "datasets['firefox'] = {\n",
    "    'reports': reports_train_firefox,\n",
    "    'relations': relations_firefox\n",
    "}\n",
    "\n",
    "datasets['netbeans'] = {\n",
    "    'reports': reports_train_netbeans,\n",
    "    'relations': relations_netbeans\n",
    "}"
   ]
  },
  {
   "cell_type": "code",
   "execution_count": 10,
   "metadata": {},
   "outputs": [
    {
     "name": "stdout",
     "output_type": "stream",
     "text": [
      "eclipse 20550\n",
      "openoffice 13996\n",
      "save\n",
      "save\n",
      "save\n",
      "save\n",
      "save\n",
      "save\n",
      "save\n",
      "save\n",
      "save\n",
      "save\n",
      "save\n",
      "save\n",
      "save\n",
      "save\n",
      "save\n",
      "firefox 37228\n",
      "netbeans 22374\n"
     ]
    }
   ],
   "source": [
    "for key, value in datasets.items():\n",
    "\n",
    "    # Generate triplets for the train dataset\n",
    "    triplets = generate_triplets(value['reports'], value['relations'])\n",
    "    print(key, len(triplets))\n",
    "\n",
    "    # Save triplets into pickle file\n",
    "    triplets_file_path = f'data/splits/refactor_triplets/{key}_triplets.pkl'\n",
    "    with open(triplets_file_path, \"wb\") as f:\n",
    "        pickle.dump(triplets, f)\n",
    "\n",
    "    "
   ]
  },
  {
   "cell_type": "code",
   "execution_count": 11,
   "metadata": {},
   "outputs": [
    {
     "name": "stdout",
     "output_type": "stream",
     "text": [
      "eclipse 20550\n",
      "openoffice 13996\n",
      "firefox 37228\n",
      "netbeans 22374\n"
     ]
    }
   ],
   "source": [
    "train_triplets = {}\n",
    "\n",
    "for key, value in datasets.items():\n",
    "    \n",
    "    triplets_file_path = f'data/splits/refactor_triplets/{key}_triplets.pkl'\n",
    "\n",
    "    with open(triplets_file_path, \"rb\") as f:\n",
    "        loaded_input_examples = pickle.load(f)\n",
    "\n",
    "    train_triplets[key] = loaded_input_examples\n",
    "\n",
    "    print(key, len(loaded_input_examples))"
   ]
  },
  {
   "cell_type": "code",
   "execution_count": 12,
   "metadata": {},
   "outputs": [
    {
     "data": {
      "text/plain": [
       "94148"
      ]
     },
     "execution_count": 12,
     "metadata": {},
     "output_type": "execute_result"
    }
   ],
   "source": [
    "all_triplets = []\n",
    "\n",
    "for list_of_triplets in train_triplets.values():\n",
    "    all_triplets.extend(list_of_triplets)\n",
    "\n",
    "len(all_triplets)"
   ]
  },
  {
   "cell_type": "code",
   "execution_count": null,
   "metadata": {},
   "outputs": [],
   "source": []
  }
 ],
 "metadata": {
  "kernelspec": {
   "display_name": "Python 3",
   "language": "python",
   "name": "python3"
  },
  "language_info": {
   "codemirror_mode": {
    "name": "ipython",
    "version": 3
   },
   "file_extension": ".py",
   "mimetype": "text/x-python",
   "name": "python",
   "nbconvert_exporter": "python",
   "pygments_lexer": "ipython3",
   "version": "3.10.7"
  }
 },
 "nbformat": 4,
 "nbformat_minor": 2
}
