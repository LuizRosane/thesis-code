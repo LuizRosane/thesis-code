{
 "cells": [
  {
   "cell_type": "code",
   "execution_count": 1,
   "metadata": {},
   "outputs": [],
   "source": [
    "from sentence_transformers import SentenceTransformer, InputExample, losses, util\n",
    "from torch.utils.data import DataLoader\n",
    "from torch import device, cuda\n",
    "\n",
    "import pandas as pd"
   ]
  },
  {
   "cell_type": "code",
   "execution_count": 2,
   "metadata": {},
   "outputs": [],
   "source": [
    "reports_file_path = './data/br/netbeans/netbeans.csv'\n",
    "relations_file_path = 'data/br/netbeans/netbeans_pairs - Copia.csv'\n",
    "\n",
    "reports = pd.read_csv(reports_file_path, index_col='bug_id')\n",
    "relations = pd.read_csv(relations_file_path)"
   ]
  },
  {
   "cell_type": "code",
   "execution_count": 3,
   "metadata": {},
   "outputs": [
    {
     "name": "stdout",
     "output_type": "stream",
     "text": [
      "200622\n",
      "---------------------\n",
      "<InputExample> label: 1, texts: Go To Source does not work, if the live results or snapshot comes from sampling.\n",
      "<InputExample> label: 1, texts: ActSubMenu is not serializable and in some cases wants to be serialized.\n",
      "<InputExample> label: 1, texts: Find source Explorer view.\n",
      "I want to see some inputline in ExplorerWindow.\n",
      "I will type com.net (Now I press Esc and name is resolved like:\n",
      "com.netbeans. (I can continue typing)\n",
      "\n",
      "When I press Enter the Open action is performed.\n",
      "(and in Explorer tree view the Root context is setted)\n"
     ]
    },
    {
     "name": "stderr",
     "output_type": "stream",
     "text": [
      "C:\\Users\\lpros\\AppData\\Local\\Temp\\ipykernel_21164\\2132851940.py:6: FutureWarning: Series.__getitem__ treating keys as positions is deprecated. In a future version, integer keys will always be treated as labels (consistent with DataFrame behavior). To access a value by position, use `ser.iloc[pos]`\n",
      "  bug_id = int(row[0])\n",
      "C:\\Users\\lpros\\AppData\\Local\\Temp\\ipykernel_21164\\2132851940.py:7: FutureWarning: Series.__getitem__ treating keys as positions is deprecated. In a future version, integer keys will always be treated as labels (consistent with DataFrame behavior). To access a value by position, use `ser.iloc[pos]`\n",
      "  if ( not pd.isna(row[1]) and bug_id not in added_bug_reports):\n",
      "C:\\Users\\lpros\\AppData\\Local\\Temp\\ipykernel_21164\\2132851940.py:8: FutureWarning: Series.__getitem__ treating keys as positions is deprecated. In a future version, integer keys will always be treated as labels (consistent with DataFrame behavior). To access a value by position, use `ser.iloc[pos]`\n",
      "  duplicates_ids = [int(x) for x in row[1].split(\";\")[0]]\n"
     ]
    }
   ],
   "source": [
    "added_bug_reports = set()\n",
    "train_examples = []\n",
    "class_label = 0\n",
    "\n",
    "for index, row in relations.iterrows():\n",
    "    bug_id = int(row[0])\n",
    "    if ( not pd.isna(row[1]) and bug_id not in added_bug_reports):\n",
    "        duplicates_ids = [int(x) for x in row[1].split(\";\")[0]]\n",
    "\n",
    "        train_examples.append(\n",
    "            InputExample(\n",
    "                texts=[reports.iloc[bug_id]['description']],\n",
    "                label=class_label\n",
    "            )\n",
    "        )\n",
    "        added_bug_reports.add(bug_id)\n",
    "        if class_label == 0:\n",
    "            print(bug_id)\n",
    "\n",
    "        for duplicate_id in duplicates_ids:\n",
    "            train_examples.append(\n",
    "                InputExample(\n",
    "                    texts=[reports.iloc[duplicate_id]['description']],\n",
    "                    label=class_label\n",
    "                )\n",
    "            )\n",
    "            added_bug_reports.add(duplicate_id)\n",
    "        \n",
    "        class_label +=1\n",
    "    if len(train_examples) > 20:\n",
    "        break\n",
    "print('---------------------')\n",
    "\n",
    "print(train_examples[7])\n",
    "print(train_examples[9])\n",
    "print(train_examples[10])"
   ]
  },
  {
   "cell_type": "code",
   "execution_count": null,
   "metadata": {},
   "outputs": [],
   "source": [
    "relations.loc[]"
   ]
  }
 ],
 "metadata": {
  "kernelspec": {
   "display_name": "Python 3",
   "language": "python",
   "name": "python3"
  },
  "language_info": {
   "codemirror_mode": {
    "name": "ipython",
    "version": 3
   },
   "file_extension": ".py",
   "mimetype": "text/x-python",
   "name": "python",
   "nbconvert_exporter": "python",
   "pygments_lexer": "ipython3",
   "version": "3.10.7"
  }
 },
 "nbformat": 4,
 "nbformat_minor": 2
}
