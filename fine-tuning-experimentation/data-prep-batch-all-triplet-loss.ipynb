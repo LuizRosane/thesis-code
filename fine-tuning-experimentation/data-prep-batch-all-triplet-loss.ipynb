{
 "cells": [
  {
   "cell_type": "code",
   "execution_count": 1,
   "metadata": {},
   "outputs": [],
   "source": [
    "from sentence_transformers import SentenceTransformer, InputExample, losses, util\n",
    "from torch.utils.data import DataLoader\n",
    "from torch import device, cuda\n",
    "\n",
    "import pandas as pd"
   ]
  },
  {
   "cell_type": "code",
   "execution_count": 2,
   "metadata": {},
   "outputs": [],
   "source": [
    "reports_file_path = './data/br/netbeans/netbeans.csv'\n",
    "relations_file_path = 'data/br/netbeans/netbeans_pairs - Copia.csv'\n",
    "\n",
    "reports = pd.read_csv(reports_file_path, index_col='bug_id')\n",
    "relations = pd.read_csv(relations_file_path)"
   ]
  },
  {
   "cell_type": "code",
   "execution_count": 43,
   "metadata": {},
   "outputs": [
    {
     "name": "stderr",
     "output_type": "stream",
     "text": [
      "C:\\Users\\lpros\\AppData\\Local\\Temp\\ipykernel_7812\\1233618834.py:8: FutureWarning: Series.__getitem__ treating keys as positions is deprecated. In a future version, integer keys will always be treated as labels (consistent with DataFrame behavior). To access a value by position, use `ser.iloc[pos]`\n",
      "  bug_id = int(row[0])\n",
      "C:\\Users\\lpros\\AppData\\Local\\Temp\\ipykernel_7812\\1233618834.py:15: FutureWarning: Series.__getitem__ treating keys as positions is deprecated. In a future version, integer keys will always be treated as labels (consistent with DataFrame behavior). To access a value by position, use `ser.iloc[pos]`\n",
      "  if ( not pd.isna(row[1]) and bug_id not in added_bug_reports and bug is not None):\n",
      "C:\\Users\\lpros\\AppData\\Local\\Temp\\ipykernel_7812\\1233618834.py:16: FutureWarning: Series.__getitem__ treating keys as positions is deprecated. In a future version, integer keys will always be treated as labels (consistent with DataFrame behavior). To access a value by position, use `ser.iloc[pos]`\n",
      "  duplicates_ids = [int(x) for x in row[1].split(\";\")]\n"
     ]
    },
    {
     "name": "stdout",
     "output_type": "stream",
     "text": [
      "46321\n",
      "10248\n"
     ]
    }
   ],
   "source": [
    "added_bug_reports = set()\n",
    "train_examples = []\n",
    "class_label = 0\n",
    "\n",
    "invalid_ids = set()\n",
    "\n",
    "for index, row in relations.iterrows():\n",
    "    bug_id = int(row[0])\n",
    "    bug = None\n",
    "    try:\n",
    "        bug = reports.iloc[bug_id]\n",
    "    except:\n",
    "        invalid_ids.add(bug_id)\n",
    "\n",
    "    if ( not pd.isna(row[1]) and bug_id not in added_bug_reports and bug is not None):\n",
    "        duplicates_ids = [int(x) for x in row[1].split(\";\")]\n",
    "        \n",
    "        added_bug_reports_len_before = len(added_bug_reports)\n",
    "\n",
    "        for duplicate_id in duplicates_ids:\n",
    "            duplicate = None\n",
    "            try:\n",
    "                duplicate = reports.iloc[duplicate_id]\n",
    "            except:\n",
    "                invalid_ids.add(duplicate_id)\n",
    "\n",
    "            if duplicate is not None and duplicate_id not in added_bug_reports:\n",
    "                train_examples.append(\n",
    "                    InputExample(\n",
    "                        texts=[duplicate['description']],\n",
    "                        label=class_label\n",
    "                    )\n",
    "                )\n",
    "                added_bug_reports.add(duplicate_id)\n",
    "        \n",
    "        # The loss function we are using requires that there are at leas 2 examples from each label,\n",
    "        # therefore we only add the \"main bug\" if at leats one of its duplicates was added\n",
    "        if len(added_bug_reports) > added_bug_reports_len_before:\n",
    "            train_examples.append(\n",
    "                InputExample(\n",
    "                    texts=[bug['description']],\n",
    "                    label=class_label\n",
    "                )\n",
    "            )\n",
    "            added_bug_reports.add(bug_id)\n",
    "\n",
    "            class_label +=1\n",
    "\n",
    "print(len(added_bug_reports))\n",
    "print(len(invalid_ids))"
   ]
  },
  {
   "cell_type": "code",
   "execution_count": 44,
   "metadata": {},
   "outputs": [
    {
     "name": "stdout",
     "output_type": "stream",
     "text": [
      "46321\n"
     ]
    }
   ],
   "source": [
    "print(len(train_examples))"
   ]
  },
  {
   "cell_type": "code",
   "execution_count": 45,
   "metadata": {},
   "outputs": [
    {
     "name": "stdout",
     "output_type": "stream",
     "text": [
      "18123\n"
     ]
    }
   ],
   "source": [
    "print(class_label)"
   ]
  },
  {
   "cell_type": "code",
   "execution_count": 46,
   "metadata": {},
   "outputs": [
    {
     "name": "stdout",
     "output_type": "stream",
     "text": [
      "216715\n"
     ]
    }
   ],
   "source": [
    "print(len(reports))"
   ]
  },
  {
   "cell_type": "code",
   "execution_count": null,
   "metadata": {},
   "outputs": [],
   "source": []
  }
 ],
 "metadata": {
  "kernelspec": {
   "display_name": "Python 3",
   "language": "python",
   "name": "python3"
  },
  "language_info": {
   "codemirror_mode": {
    "name": "ipython",
    "version": 3
   },
   "file_extension": ".py",
   "mimetype": "text/x-python",
   "name": "python",
   "nbconvert_exporter": "python",
   "pygments_lexer": "ipython3",
   "version": "3.10.7"
  }
 },
 "nbformat": 4,
 "nbformat_minor": 2
}
