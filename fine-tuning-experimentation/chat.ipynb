{
 "cells": [
  {
   "cell_type": "code",
   "execution_count": 123,
   "metadata": {},
   "outputs": [],
   "source": [
    "import pandas as pd\n",
    "from sentence_transformers import SentenceTransformer, util"
   ]
  },
  {
   "cell_type": "code",
   "execution_count": 124,
   "metadata": {},
   "outputs": [],
   "source": [
    "model = SentenceTransformer('all-mpnet-base-v2')"
   ]
  },
  {
   "cell_type": "code",
   "execution_count": 125,
   "metadata": {},
   "outputs": [],
   "source": [
    "reports_file_path = './data/br/netbeans/netbeans.csv'\n",
    "relations_file_path = 'data/br/netbeans/netbeans_pairs - Copia.csv'\n",
    "\n",
    "reports = pd.read_csv(reports_file_path, index_col='bug_id')\n",
    "relations = pd.read_csv(relations_file_path)"
   ]
  },
  {
   "cell_type": "code",
   "execution_count": 126,
   "metadata": {},
   "outputs": [
    {
     "data": {
      "text/html": [
       "<div>\n",
       "<style scoped>\n",
       "    .dataframe tbody tr th:only-of-type {\n",
       "        vertical-align: middle;\n",
       "    }\n",
       "\n",
       "    .dataframe tbody tr th {\n",
       "        vertical-align: top;\n",
       "    }\n",
       "\n",
       "    .dataframe thead th {\n",
       "        text-align: right;\n",
       "    }\n",
       "</style>\n",
       "<table border=\"1\" class=\"dataframe\">\n",
       "  <thead>\n",
       "    <tr style=\"text-align: right;\">\n",
       "      <th></th>\n",
       "      <th>bug_severity</th>\n",
       "      <th>bug_status</th>\n",
       "      <th>component</th>\n",
       "      <th>creation_ts</th>\n",
       "      <th>delta_ts</th>\n",
       "      <th>description</th>\n",
       "      <th>dup_id</th>\n",
       "      <th>priority</th>\n",
       "      <th>product</th>\n",
       "      <th>resolution</th>\n",
       "      <th>short_desc</th>\n",
       "      <th>version</th>\n",
       "    </tr>\n",
       "    <tr>\n",
       "      <th>bug_id</th>\n",
       "      <th></th>\n",
       "      <th></th>\n",
       "      <th></th>\n",
       "      <th></th>\n",
       "      <th></th>\n",
       "      <th></th>\n",
       "      <th></th>\n",
       "      <th></th>\n",
       "      <th></th>\n",
       "      <th></th>\n",
       "      <th></th>\n",
       "      <th></th>\n",
       "    </tr>\n",
       "  </thead>\n",
       "  <tbody>\n",
       "    <tr>\n",
       "      <th>296</th>\n",
       "      <td>normal</td>\n",
       "      <td>CLOSED</td>\n",
       "      <td>debuggertools</td>\n",
       "      <td>1998-06-29 18:54:00 +0000</td>\n",
       "      <td>2002-07-19 15:17:46 +0000</td>\n",
       "      <td>[pslegr]\\nIs it now possible to fix that?</td>\n",
       "      <td>[]</td>\n",
       "      <td>P4</td>\n",
       "      <td>obsolete</td>\n",
       "      <td>WONTFIX</td>\n",
       "      <td>Debugger does not stop on breakpoints in stati...</td>\n",
       "      <td>3.x</td>\n",
       "    </tr>\n",
       "    <tr>\n",
       "      <th>302</th>\n",
       "      <td>normal</td>\n",
       "      <td>CLOSED</td>\n",
       "      <td>Code</td>\n",
       "      <td>1998-06-29 19:26:00 +0000</td>\n",
       "      <td>2003-06-30 17:26:30 +0000</td>\n",
       "      <td>Problem appears in:\\nStep Over &amp; Step Into act...</td>\n",
       "      <td>[]</td>\n",
       "      <td>P4</td>\n",
       "      <td>debugger</td>\n",
       "      <td>WONTFIX</td>\n",
       "      <td>Problem with .class without .java sources.</td>\n",
       "      <td>3.x</td>\n",
       "    </tr>\n",
       "    <tr>\n",
       "      <th>301</th>\n",
       "      <td>normal</td>\n",
       "      <td>CLOSED</td>\n",
       "      <td>Code</td>\n",
       "      <td>1998-06-29 19:23:00 +0000</td>\n",
       "      <td>2003-06-30 17:26:28 +0000</td>\n",
       "      <td>Priority is changed to P4 (normal).</td>\n",
       "      <td>[]</td>\n",
       "      <td>P4</td>\n",
       "      <td>debugger</td>\n",
       "      <td>WONTFIX</td>\n",
       "      <td>Step out action.</td>\n",
       "      <td>3.x</td>\n",
       "    </tr>\n",
       "    <tr>\n",
       "      <th>365</th>\n",
       "      <td>normal</td>\n",
       "      <td>CLOSED</td>\n",
       "      <td>Code</td>\n",
       "      <td>1998-07-21 22:44:00 +0000</td>\n",
       "      <td>2002-07-19 15:19:34 +0000</td>\n",
       "      <td>Use gridlayout, set number of columns to one, ...</td>\n",
       "      <td>[]</td>\n",
       "      <td>P4</td>\n",
       "      <td>guibuilder</td>\n",
       "      <td>FIXED</td>\n",
       "      <td>After reopen of GridLayout number of cells is bad</td>\n",
       "      <td>3.x</td>\n",
       "    </tr>\n",
       "    <tr>\n",
       "      <th>367</th>\n",
       "      <td>normal</td>\n",
       "      <td>CLOSED</td>\n",
       "      <td>Code</td>\n",
       "      <td>1998-07-21 23:46:00 +0000</td>\n",
       "      <td>2002-07-19 15:19:34 +0000</td>\n",
       "      <td>Special editor for String to support localizat...</td>\n",
       "      <td>[]</td>\n",
       "      <td>P4</td>\n",
       "      <td>guibuilder</td>\n",
       "      <td>FIXED</td>\n",
       "      <td>Property Editor for java.lang.String</td>\n",
       "      <td>3.x</td>\n",
       "    </tr>\n",
       "  </tbody>\n",
       "</table>\n",
       "</div>"
      ],
      "text/plain": [
       "       bug_severity bug_status      component                creation_ts  \\\n",
       "bug_id                                                                     \n",
       "296          normal     CLOSED  debuggertools  1998-06-29 18:54:00 +0000   \n",
       "302          normal     CLOSED           Code  1998-06-29 19:26:00 +0000   \n",
       "301          normal     CLOSED           Code  1998-06-29 19:23:00 +0000   \n",
       "365          normal     CLOSED           Code  1998-07-21 22:44:00 +0000   \n",
       "367          normal     CLOSED           Code  1998-07-21 23:46:00 +0000   \n",
       "\n",
       "                         delta_ts  \\\n",
       "bug_id                              \n",
       "296     2002-07-19 15:17:46 +0000   \n",
       "302     2003-06-30 17:26:30 +0000   \n",
       "301     2003-06-30 17:26:28 +0000   \n",
       "365     2002-07-19 15:19:34 +0000   \n",
       "367     2002-07-19 15:19:34 +0000   \n",
       "\n",
       "                                              description dup_id priority  \\\n",
       "bug_id                                                                      \n",
       "296             [pslegr]\\nIs it now possible to fix that?     []       P4   \n",
       "302     Problem appears in:\\nStep Over & Step Into act...     []       P4   \n",
       "301                   Priority is changed to P4 (normal).     []       P4   \n",
       "365     Use gridlayout, set number of columns to one, ...     []       P4   \n",
       "367     Special editor for String to support localizat...     []       P4   \n",
       "\n",
       "           product resolution  \\\n",
       "bug_id                          \n",
       "296       obsolete    WONTFIX   \n",
       "302       debugger    WONTFIX   \n",
       "301       debugger    WONTFIX   \n",
       "365     guibuilder      FIXED   \n",
       "367     guibuilder      FIXED   \n",
       "\n",
       "                                               short_desc version  \n",
       "bug_id                                                             \n",
       "296     Debugger does not stop on breakpoints in stati...     3.x  \n",
       "302            Problem with .class without .java sources.     3.x  \n",
       "301                                      Step out action.     3.x  \n",
       "365     After reopen of GridLayout number of cells is bad     3.x  \n",
       "367                  Property Editor for java.lang.String     3.x  "
      ]
     },
     "execution_count": 126,
     "metadata": {},
     "output_type": "execute_result"
    }
   ],
   "source": [
    "reports.head()"
   ]
  },
  {
   "cell_type": "code",
   "execution_count": 127,
   "metadata": {},
   "outputs": [
    {
     "name": "stdout",
     "output_type": "stream",
     "text": [
      "200622\n"
     ]
    },
    {
     "name": "stderr",
     "output_type": "stream",
     "text": [
      "C:\\Users\\lpros\\AppData\\Local\\Temp\\ipykernel_4604\\3840485113.py:7: FutureWarning: Series.__getitem__ treating keys as positions is deprecated. In a future version, integer keys will always be treated as labels (consistent with DataFrame behavior). To access a value by position, use `ser.iloc[pos]`\n",
      "  bug_id = row[0]\n",
      "C:\\Users\\lpros\\AppData\\Local\\Temp\\ipykernel_4604\\3840485113.py:9: FutureWarning: Series.__getitem__ treating keys as positions is deprecated. In a future version, integer keys will always be treated as labels (consistent with DataFrame behavior). To access a value by position, use `ser.iloc[pos]`\n",
      "  if ( not pd.isna(row[1])):\n",
      "C:\\Users\\lpros\\AppData\\Local\\Temp\\ipykernel_4604\\3840485113.py:10: FutureWarning: Series.__getitem__ treating keys as positions is deprecated. In a future version, integer keys will always be treated as labels (consistent with DataFrame behavior). To access a value by position, use `ser.iloc[pos]`\n",
      "  duplicate_ids = [int(x) for x in row[1].split(\";\")]\n"
     ]
    },
    {
     "data": {
      "text/plain": [
       "[185122,\n",
       " 191046,\n",
       " 192167,\n",
       " 168052,\n",
       " 201116,\n",
       " 179303,\n",
       " 173280,\n",
       " 185129,\n",
       " 173297,\n",
       " 197347,\n",
       " 171307,\n",
       " 159483,\n",
       " 173276,\n",
       " 191930,\n",
       " 158944,\n",
       " 178364,\n",
       " 172916,\n",
       " 178769,\n",
       " 150234,\n",
       " 194928,\n",
       " 198080,\n",
       " 190598,\n",
       " 192172,\n",
       " 170541,\n",
       " 155847,\n",
       " 156415]"
      ]
     },
     "execution_count": 127,
     "metadata": {},
     "output_type": "execute_result"
    }
   ],
   "source": [
    "i = 0\n",
    "duplicate_ids = []\n",
    "bug_id = 0\n",
    "\n",
    "for index, row in relations.iterrows():\n",
    "\n",
    "    bug_id = row[0]\n",
    "\n",
    "    if ( not pd.isna(row[1])):\n",
    "        duplicate_ids = [int(x) for x in row[1].split(\";\")]\n",
    "        break\n",
    "\n",
    "print(bug_id)\n",
    "    \n",
    "        \n",
    "duplicate_ids\n"
   ]
  },
  {
   "cell_type": "code",
   "execution_count": 128,
   "metadata": {},
   "outputs": [
    {
     "data": {
      "text/html": [
       "<div>\n",
       "<style scoped>\n",
       "    .dataframe tbody tr th:only-of-type {\n",
       "        vertical-align: middle;\n",
       "    }\n",
       "\n",
       "    .dataframe tbody tr th {\n",
       "        vertical-align: top;\n",
       "    }\n",
       "\n",
       "    .dataframe thead th {\n",
       "        text-align: right;\n",
       "    }\n",
       "</style>\n",
       "<table border=\"1\" class=\"dataframe\">\n",
       "  <thead>\n",
       "    <tr style=\"text-align: right;\">\n",
       "      <th></th>\n",
       "      <th>bug_severity</th>\n",
       "      <th>bug_status</th>\n",
       "      <th>component</th>\n",
       "      <th>creation_ts</th>\n",
       "      <th>delta_ts</th>\n",
       "      <th>description</th>\n",
       "      <th>dup_id</th>\n",
       "      <th>priority</th>\n",
       "      <th>product</th>\n",
       "      <th>resolution</th>\n",
       "      <th>short_desc</th>\n",
       "      <th>version</th>\n",
       "    </tr>\n",
       "    <tr>\n",
       "      <th>bug_id</th>\n",
       "      <th></th>\n",
       "      <th></th>\n",
       "      <th></th>\n",
       "      <th></th>\n",
       "      <th></th>\n",
       "      <th></th>\n",
       "      <th></th>\n",
       "      <th></th>\n",
       "      <th></th>\n",
       "      <th></th>\n",
       "      <th></th>\n",
       "      <th></th>\n",
       "    </tr>\n",
       "  </thead>\n",
       "  <tbody>\n",
       "    <tr>\n",
       "      <th>201861</th>\n",
       "      <td>normal</td>\n",
       "      <td>RESOLVED</td>\n",
       "      <td>Smarty</td>\n",
       "      <td>2011-09-09 05:41:00 +0000</td>\n",
       "      <td>2011-09-17 14:15:21 +0000</td>\n",
       "      <td>Product Version = NetBeans IDE Dev (Build 2011...</td>\n",
       "      <td>[]</td>\n",
       "      <td>P3</td>\n",
       "      <td>php</td>\n",
       "      <td>FIXED</td>\n",
       "      <td>In smarty tpl file \"foreach loop\" foreachelse ...</td>\n",
       "      <td>7.0</td>\n",
       "    </tr>\n",
       "    <tr>\n",
       "      <th>208633</th>\n",
       "      <td>normal</td>\n",
       "      <td>RESOLVED</td>\n",
       "      <td>Code</td>\n",
       "      <td>2012-02-20 10:12:00 +0000</td>\n",
       "      <td>2012-02-20 21:45:39 +0000</td>\n",
       "      <td>Created attachment 115939\\nError log\\n\\nWhile ...</td>\n",
       "      <td>[]</td>\n",
       "      <td>P4</td>\n",
       "      <td>ide</td>\n",
       "      <td>WORKSFORME</td>\n",
       "      <td>Netbeans seems to crash randomly (shutdown) wi...</td>\n",
       "      <td>7.1</td>\n",
       "    </tr>\n",
       "  </tbody>\n",
       "</table>\n",
       "</div>"
      ],
      "text/plain": [
       "       bug_severity bug_status component                creation_ts  \\\n",
       "bug_id                                                                \n",
       "201861       normal   RESOLVED    Smarty  2011-09-09 05:41:00 +0000   \n",
       "208633       normal   RESOLVED      Code  2012-02-20 10:12:00 +0000   \n",
       "\n",
       "                         delta_ts  \\\n",
       "bug_id                              \n",
       "201861  2011-09-17 14:15:21 +0000   \n",
       "208633  2012-02-20 21:45:39 +0000   \n",
       "\n",
       "                                              description dup_id priority  \\\n",
       "bug_id                                                                      \n",
       "201861  Product Version = NetBeans IDE Dev (Build 2011...     []       P3   \n",
       "208633  Created attachment 115939\\nError log\\n\\nWhile ...     []       P4   \n",
       "\n",
       "       product  resolution                                         short_desc  \\\n",
       "bug_id                                                                          \n",
       "201861     php       FIXED  In smarty tpl file \"foreach loop\" foreachelse ...   \n",
       "208633     ide  WORKSFORME  Netbeans seems to crash randomly (shutdown) wi...   \n",
       "\n",
       "       version  \n",
       "bug_id          \n",
       "201861     7.0  \n",
       "208633     7.1  "
      ]
     },
     "execution_count": 128,
     "metadata": {},
     "output_type": "execute_result"
    }
   ],
   "source": [
    "reports.iloc[duplicate_ids[:2]]"
   ]
  },
  {
   "cell_type": "code",
   "execution_count": 129,
   "metadata": {},
   "outputs": [
    {
     "data": {
      "text/plain": [
       "bug_id\n",
       "201861    Product Version = NetBeans IDE Dev (Build 2011...\n",
       "208633    Created attachment 115939\\nError log\\n\\nWhile ...\n",
       "209886    This bug was originally marked as duplicate of...\n",
       "182727    Product Version = NetBeans IDE Dev (Build 2010...\n",
       "220046    Created attachment 125909\\nabsolutely useless ...\n",
       "195330    Product Version = NetBeans IDE Dev (Build 1102...\n",
       "188570    Build: NetBeans IDE 6.8 (Build 200912041610)\\n...\n",
       "201872    When creating a new JPanel form in a new NetBe...\n",
       "188514    1. Create a new Web Application Project (Glass...\n",
       "215741    This bug was originally marked as duplicate of...\n",
       "186324    I had just hit code completion for a method an...\n",
       "173182    netbeans-trunk-nightly-200909221401-javafx-ful...\n",
       "188563    When writing a class in php the parser trigger...\n",
       "209620    This issue was reported manually by mkristofic...\n",
       "172592    Build: NetBeans IDE Dev (Build 200908022240)\\n...\n",
       "194296    Build: NetBeans IDE Dev (Build 101112-828401e3...\n",
       "188149    This is a followup on issue #180652 to cover t...\n",
       "194755    Build: NetBeans IDE 7.0 Beta (Build 2010111523...\n",
       "162838    Build: NetBeans IDE Dev (Build 200904011705)\\n...\n",
       "212964    GDB older than 7.4 does not support SystemCall...\n",
       "216588    Build: NetBeans IDE Dev (Build EaselCSS-465-on...\n",
       "208141    When refactoring an anonymous inner class to a...\n",
       "209892    Currently, OSX only supports svn version 1.6, ...\n",
       "185466    Build: NetBeans IDE Dev (Build 201005040200)\\n...\n",
       "169148    For our project we need to use a current build...\n",
       "169786    PHP Application from Remote Server wizard:\\n\\n...\n",
       "Name: description, dtype: object"
      ]
     },
     "execution_count": 129,
     "metadata": {},
     "output_type": "execute_result"
    }
   ],
   "source": [
    "reports.iloc[duplicate_ids]['description']"
   ]
  },
  {
   "cell_type": "code",
   "execution_count": 130,
   "metadata": {},
   "outputs": [
    {
     "data": {
      "text/plain": [
       "'You currently get warnings for this code in the editor:\\n\\nlist($child_model, $child_column) = $pointer;\\n\\n$child_model: \"Variable might have not been initialized.\"\\n\\nThe editor incorrectly treats list() as a function and therefore assuming the variables are beeing used when it\\'s infact a language construct that is initializing the variables.'"
      ]
     },
     "execution_count": 130,
     "metadata": {},
     "output_type": "execute_result"
    }
   ],
   "source": [
    "reports.loc[185122]['description']"
   ]
  },
  {
   "cell_type": "code",
   "execution_count": 131,
   "metadata": {},
   "outputs": [
    {
     "data": {
      "text/plain": [
       "'PHP\\'s variable functions are currently not supported.\\nVariable functions are a valid part of a language (http://php.net/manual/en/functions.variable-functions.php) and since PHP 5.3 are becoming more widely used with Closures.\\n\\nThis code should be valid:\\n $foo = function () { echo \\'Hello\\'; };\\n $foo();\\nBut Netbeans IDE says: \"Unknown function\".'"
      ]
     },
     "execution_count": 131,
     "metadata": {},
     "output_type": "execute_result"
    }
   ],
   "source": [
    "reports.loc[191046]['description']"
   ]
  },
  {
   "cell_type": "code",
   "execution_count": 132,
   "metadata": {},
   "outputs": [
    {
     "data": {
      "text/html": [
       "<div>\n",
       "<style scoped>\n",
       "    .dataframe tbody tr th:only-of-type {\n",
       "        vertical-align: middle;\n",
       "    }\n",
       "\n",
       "    .dataframe tbody tr th {\n",
       "        vertical-align: top;\n",
       "    }\n",
       "\n",
       "    .dataframe thead th {\n",
       "        text-align: right;\n",
       "    }\n",
       "</style>\n",
       "<table border=\"1\" class=\"dataframe\">\n",
       "  <thead>\n",
       "    <tr style=\"text-align: right;\">\n",
       "      <th></th>\n",
       "      <th>issue_id</th>\n",
       "      <th>duplicate</th>\n",
       "    </tr>\n",
       "  </thead>\n",
       "  <tbody>\n",
       "    <tr>\n",
       "      <th>0</th>\n",
       "      <td>200622</td>\n",
       "      <td>185122;191046;192167;168052;201116;179303;1732...</td>\n",
       "    </tr>\n",
       "  </tbody>\n",
       "</table>\n",
       "</div>"
      ],
      "text/plain": [
       "   issue_id                                          duplicate\n",
       "0    200622  185122;191046;192167;168052;201116;179303;1732..."
      ]
     },
     "execution_count": 132,
     "metadata": {},
     "output_type": "execute_result"
    }
   ],
   "source": [
    "relations[relations['issue_id'] == 200622]"
   ]
  },
  {
   "cell_type": "code",
   "execution_count": 133,
   "metadata": {},
   "outputs": [],
   "source": [
    "reports_dict = {}"
   ]
  },
  {
   "cell_type": "code",
   "execution_count": 134,
   "metadata": {},
   "outputs": [],
   "source": [
    "with open('./data/output.txt', 'w') as f:\n",
    "    f.write(f\"***\\n185122\\n{reports.loc[185122]['description']}\\n\")"
   ]
  },
  {
   "cell_type": "code",
   "execution_count": 135,
   "metadata": {},
   "outputs": [],
   "source": [
    "with open('./data/output.txt', 'a') as f:\n",
    "    for index, value in enumerate(reports.iloc[:11]):\n",
    "        f.write(f\"***\\n{index}\\n{reports.iloc[index]['description']}\\n\")\n",
    "        reports_dict[index] = {'sentence':reports.iloc[index]['description']}"
   ]
  },
  {
   "cell_type": "code",
   "execution_count": 136,
   "metadata": {},
   "outputs": [],
   "source": [
    "with open('./data/output.txt', 'a') as f:\n",
    "    f.write(f\"***\\n191046\\n{reports.loc[191046]['description']}\\n\")\n",
    "    reports_dict[191046] = {'sentence': reports.loc[191046]['description']}"
   ]
  },
  {
   "cell_type": "code",
   "execution_count": 137,
   "metadata": {},
   "outputs": [
    {
     "data": {
      "text/plain": [
       "{0: {'sentence': '[pslegr]\\nIs it now possible to fix that?'},\n",
       " 1: {'sentence': 'Problem appears in:\\nStep Over & Step Into actions\\n(Step out in future).'},\n",
       " 2: {'sentence': 'Priority is changed to P4 (normal).'},\n",
       " 3: {'sentence': 'Use gridlayout, set number of columns to one, close and reopen.'},\n",
       " 4: {'sentence': 'Special editor for String to support localization of FormEditor code.\\n\\nIt should allow to enter text as usual and also to invoke dialog where name of bundle and the resource name could be entered.\\n\\nThere should be history of previously entered resource bundle names.\\n\\nThe initialization string then should be:\\n\\n\\njava.util.ResourceBundle.getBundle (\"name_of_bundle\").getString (\"name_of_resource\")\\n\\n\\nIn future the editor should allow modification of property files too.'},\n",
       " 5: {'sentence': '[IAN] It will be too hard to describe in documentation - rather when using layouts, enforce putting them into palette'},\n",
       " 6: {'sentence': 'I would like to have action for activation of popup menu by keyboard.\\n\\nIt should be CallbackAction called PopupMenuAction in package com.netbeans.developer.base.actions.\\n\\n\\nTreeView (and otherviews) and TextEditor should add itself as performers on receiving of focus.\\n\\nAction should not survive focus change.'},\n",
       " 7: {'sentence': 'Find source Explorer view.\\nI want to see some inputline in ExplorerWindow.\\nI will type com.net (Now I press Esc and name is resolved like:\\ncom.netbeans. (I can continue typing)\\n\\nWhen I press Enter the Open action is performed.\\n(and in Explorer tree view the Root context is setted)'},\n",
       " 8: {'sentence': 'ActSubMenu is not serializable and in some cases wants to be serialized.'},\n",
       " 9: {'sentence': 'One way to fix it is to remember thread of AWT-EventQueue0 and then test if the thread that entered the TopFrame.FocusMananger is the same.\\n\\n[jglick] At least in JDK 1.2.2, the thread is always a java.awt.EventDispatchThread named AWT-EventQueue-nnn and this number is incremented often, regardless of whether a modal dialog or something els\\ne invoked the focus manager.\\n\\nPerhaps the focused component could be tested to see if it is contained in a TopComponent or the MainWindow or not.\\n\\n[jglick] Now should disable all shortcuts when a dialog is being shown, except if the action uses a special property indicating it should be global, as does HelpAction.'},\n",
       " 10: {'sentence': 'Priority is changed to P4 (normal).'},\n",
       " 11: {'sentence': 'External deleting .java file do not cloze opened editor. If sb wants to close editor manually, exception occurres:\\n\\n\\njava.lang.ArrayIndexOutOfBoundsException: 1 >= 1\\n\\tat java.util.Vector.elementAt(Vector.java:328)\\n\\tat com.sun.java.swing.JTabbedPane.setIconAt(JTabbedPane.java:772)\\n\\tat com.netbeans.developer.base.windows.MultiObjectFrame.updateIcons(MultiObjectFrame.java:336)\\n\\tat com.netbeans.developer.base.windows.MultiObjectFrame.access$8(MultiObjectFrame.java:330)\\n\\tat com.netbeans.developer.base.windows.MultiObjectFrame$5.propertyChange(MultiObjectFrame.java:250)\\n\\n\\tat com.netbeans.developer.util.node.Node.fireOwnPropertyChange(Node.java:280)\\n\\n\\tat com.netbeans.developer.util.node.Node.fireIconChange(Node.java:213)\\n\\tat com.netbeans.developerx.loaders.java.JavaNode.resolveIcons(JavaNode.java:357)\\n\\tat com.netbeans.developerx.loaders.java.JavaNode$3.run(JavaNode.java:321)\\n\\tat com.netbeans.developer.util.RequestProcessor$1.execute(RequestProcessor.java:64)\\n\\tat sunw.hotjava.misc.RequestProcessor.run(RequestProcessor.java:130)\\n\\tat java.lang.Thread.run(Thread.java:474)'},\n",
       " 191046: {'sentence': 'PHP\\'s variable functions are currently not supported.\\nVariable functions are a valid part of a language (http://php.net/manual/en/functions.variable-functions.php) and since PHP 5.3 are becoming more widely used with Closures.\\n\\nThis code should be valid:\\n $foo = function () { echo \\'Hello\\'; };\\n $foo();\\nBut Netbeans IDE says: \"Unknown function\".'}}"
      ]
     },
     "execution_count": 137,
     "metadata": {},
     "output_type": "execute_result"
    }
   ],
   "source": [
    "reports_dict"
   ]
  },
  {
   "cell_type": "code",
   "execution_count": 138,
   "metadata": {},
   "outputs": [
    {
     "name": "stdout",
     "output_type": "stream",
     "text": [
      "0 --- tensor([[0.1434]])\n",
      "1 --- tensor([[0.1708]])\n",
      "2 --- tensor([[0.1010]])\n",
      "3 --- tensor([[0.1159]])\n",
      "4 --- tensor([[0.1030]])\n",
      "5 --- tensor([[0.0446]])\n",
      "6 --- tensor([[-0.0482]])\n",
      "7 --- tensor([[0.0085]])\n",
      "8 --- tensor([[0.1136]])\n",
      "9 --- tensor([[0.0074]])\n",
      "10 --- tensor([[0.1010]])\n",
      "11 --- tensor([[0.1098]])\n",
      "191046 --- tensor([[0.3174]])\n"
     ]
    }
   ],
   "source": [
    "prompt_bug = {\n",
    "    'sentence': reports.loc[185122]['description'],\n",
    "    'emb': model.encode(reports.loc[185122]['description'])\n",
    "            }\n",
    "\n",
    "for bug in reports_dict:\n",
    "    emb = model.encode(reports_dict[bug]['sentence'])\n",
    "    reports_dict[bug]['emb'] = emb\n",
    "    similarity = util.cos_sim(emb, prompt_bug['emb'])\n",
    "    reports_dict[bug]['cosine_similarity'] = similarity\n",
    "    print(f'{bug} --- {similarity}')"
   ]
  },
  {
   "cell_type": "code",
   "execution_count": 139,
   "metadata": {},
   "outputs": [
    {
     "name": "stdout",
     "output_type": "stream",
     "text": [
      "191046: tensor([[0.3174]])\n",
      "1: tensor([[0.1708]])\n",
      "0: tensor([[0.1434]])\n",
      "3: tensor([[0.1159]])\n",
      "8: tensor([[0.1136]])\n",
      "11: tensor([[0.1098]])\n",
      "4: tensor([[0.1030]])\n",
      "2: tensor([[0.1010]])\n",
      "10: tensor([[0.1010]])\n",
      "5: tensor([[0.0446]])\n",
      "7: tensor([[0.0085]])\n",
      "9: tensor([[0.0074]])\n",
      "6: tensor([[-0.0482]])\n"
     ]
    }
   ],
   "source": [
    "sorted_dict = sorted(reports_dict.items(), key=lambda x: -x[1]['cosine_similarity'])\n",
    "\n",
    "for tup in sorted_dict:\n",
    "    print(f\"{tup[0]}: {tup[1]['cosine_similarity']}\")"
   ]
  },
  {
   "cell_type": "code",
   "execution_count": null,
   "metadata": {},
   "outputs": [],
   "source": []
  }
 ],
 "metadata": {
  "kernelspec": {
   "display_name": "Python 3",
   "language": "python",
   "name": "python3"
  },
  "language_info": {
   "codemirror_mode": {
    "name": "ipython",
    "version": 3
   },
   "file_extension": ".py",
   "mimetype": "text/x-python",
   "name": "python",
   "nbconvert_exporter": "python",
   "pygments_lexer": "ipython3",
   "version": "3.10.7"
  }
 },
 "nbformat": 4,
 "nbformat_minor": 2
}
