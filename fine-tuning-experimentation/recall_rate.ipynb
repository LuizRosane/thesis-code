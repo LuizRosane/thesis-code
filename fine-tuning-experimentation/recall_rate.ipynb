{
 "cells": [
  {
   "cell_type": "code",
   "execution_count": 1,
   "metadata": {},
   "outputs": [],
   "source": [
    "import pandas as pd"
   ]
  },
  {
   "cell_type": "code",
   "execution_count": 2,
   "metadata": {},
   "outputs": [],
   "source": [
    "from torch import device, cuda"
   ]
  },
  {
   "cell_type": "code",
   "execution_count": 3,
   "metadata": {},
   "outputs": [],
   "source": [
    "from sentence_transformers import SentenceTransformer, util"
   ]
  },
  {
   "cell_type": "code",
   "execution_count": 4,
   "metadata": {},
   "outputs": [],
   "source": [
    "from tools import tools"
   ]
  },
  {
   "cell_type": "code",
   "execution_count": 5,
   "metadata": {},
   "outputs": [
    {
     "data": {
      "text/plain": [
       "device(type='cuda')"
      ]
     },
     "execution_count": 5,
     "metadata": {},
     "output_type": "execute_result"
    }
   ],
   "source": [
    "device = device('cuda' if cuda.is_available() else 'cpu')\n",
    "device"
   ]
  },
  {
   "cell_type": "code",
   "execution_count": 6,
   "metadata": {},
   "outputs": [
    {
     "data": {
      "text/plain": [
       "SentenceTransformer(\n",
       "  (0): Transformer({'max_seq_length': 384, 'do_lower_case': False}) with Transformer model: MPNetModel \n",
       "  (1): Pooling({'word_embedding_dimension': 768, 'pooling_mode_cls_token': False, 'pooling_mode_mean_tokens': True, 'pooling_mode_max_tokens': False, 'pooling_mode_mean_sqrt_len_tokens': False})\n",
       "  (2): Normalize()\n",
       ")"
      ]
     },
     "execution_count": 6,
     "metadata": {},
     "output_type": "execute_result"
    }
   ],
   "source": [
    "model_name = 'all-mpnet-base-v2'\n",
    "\n",
    "mpnet = SentenceTransformer(model_name)\n",
    "mpnet.to(device)"
   ]
  },
  {
   "cell_type": "code",
   "execution_count": 7,
   "metadata": {},
   "outputs": [],
   "source": [
    "reports_file_path = 'data/br/firefox/firefox.csv'\n",
    "relations_file_path = 'data/br/firefox/firefox_pairs.csv'\n",
    "\n",
    "reports_firefox = pd.read_csv(reports_file_path, index_col='bug_id')\n",
    "relations_firefox = pd.read_csv(relations_file_path)"
   ]
  },
  {
   "cell_type": "code",
   "execution_count": 8,
   "metadata": {},
   "outputs": [],
   "source": [
    "reports_firefox_test = reports_firefox[0:1000]"
   ]
  },
  {
   "cell_type": "code",
   "execution_count": 9,
   "metadata": {},
   "outputs": [
    {
     "name": "stderr",
     "output_type": "stream",
     "text": [
      "c:\\Users\\lpros\\Documents\\thesis\\thesis-code\\fine-tuning-experimentation\\tools.py:16: SettingWithCopyWarning: \n",
      "A value is trying to be set on a copy of a slice from a DataFrame.\n",
      "Try using .loc[row_indexer,col_indexer] = value instead\n",
      "\n",
      "See the caveats in the documentation: https://pandas.pydata.org/pandas-docs/stable/user_guide/indexing.html#returning-a-view-versus-a-copy\n",
      "  df[model_name] = df.apply(\n"
     ]
    }
   ],
   "source": [
    "# reports_firefox_test['mpnet'] = reports_firefox_test.apply(\n",
    "#     lambda row: mpnet.encode(row['description']),\n",
    "#     axis=1\n",
    "# )\n",
    "\n",
    "reports_firefox_test = tools.generate_encodings(\n",
    "    reports_firefox_test,\n",
    "    model_name\n",
    ")"
   ]
  },
  {
   "cell_type": "code",
   "execution_count": 11,
   "metadata": {},
   "outputs": [
    {
     "data": {
      "text/html": [
       "<div>\n",
       "<style scoped>\n",
       "    .dataframe tbody tr th:only-of-type {\n",
       "        vertical-align: middle;\n",
       "    }\n",
       "\n",
       "    .dataframe tbody tr th {\n",
       "        vertical-align: top;\n",
       "    }\n",
       "\n",
       "    .dataframe thead th {\n",
       "        text-align: right;\n",
       "    }\n",
       "</style>\n",
       "<table border=\"1\" class=\"dataframe\">\n",
       "  <thead>\n",
       "    <tr style=\"text-align: right;\">\n",
       "      <th></th>\n",
       "      <th>priority</th>\n",
       "      <th>component</th>\n",
       "      <th>dup_id</th>\n",
       "      <th>short_desc</th>\n",
       "      <th>description</th>\n",
       "      <th>bug_status</th>\n",
       "      <th>resolution</th>\n",
       "      <th>version</th>\n",
       "      <th>creation_ts</th>\n",
       "      <th>delta_ts</th>\n",
       "      <th>all-mpnet-base-v2</th>\n",
       "    </tr>\n",
       "    <tr>\n",
       "      <th>bug_id</th>\n",
       "      <th></th>\n",
       "      <th></th>\n",
       "      <th></th>\n",
       "      <th></th>\n",
       "      <th></th>\n",
       "      <th></th>\n",
       "      <th></th>\n",
       "      <th></th>\n",
       "      <th></th>\n",
       "      <th></th>\n",
       "      <th></th>\n",
       "    </tr>\n",
       "  </thead>\n",
       "  <tbody>\n",
       "    <tr>\n",
       "      <th>10954</th>\n",
       "      <td>P3</td>\n",
       "      <td>Preferences</td>\n",
       "      <td>[]</td>\n",
       "      <td>Dialup properties needs to be exposed in prefs</td>\n",
       "      <td>The dialup properties of the profile should be...</td>\n",
       "      <td>RESOLVED</td>\n",
       "      <td>WONTFIX</td>\n",
       "      <td>Trunk</td>\n",
       "      <td>1999-07-30 15:55:51 -0700</td>\n",
       "      <td>2008-05-14 11:44:15 -0700</td>\n",
       "      <td>[-0.011274192, 0.09213826, -0.010780337, -0.03...</td>\n",
       "    </tr>\n",
       "    <tr>\n",
       "      <th>14871</th>\n",
       "      <td>--</td>\n",
       "      <td>General</td>\n",
       "      <td>269442</td>\n",
       "      <td>[Find] Find whole word only</td>\n",
       "      <td>Please add Match Whole Word Only option to bro...</td>\n",
       "      <td>RESOLVED</td>\n",
       "      <td>DUPLICATE</td>\n",
       "      <td>Trunk</td>\n",
       "      <td>1999-09-24 14:49:34 -0700</td>\n",
       "      <td>2011-10-05 16:35:31 -0700</td>\n",
       "      <td>[0.02882544, 0.049673, -0.0020014888, 0.043006...</td>\n",
       "    </tr>\n",
       "    <tr>\n",
       "      <th>19118</th>\n",
       "      <td>--</td>\n",
       "      <td>Preferences</td>\n",
       "      <td>[]</td>\n",
       "      <td>Plug-In Manager (ui for choosing mimetype-plug...</td>\n",
       "      <td>I would really like a plug-in manager for my b...</td>\n",
       "      <td>RESOLVED</td>\n",
       "      <td>WONTFIX</td>\n",
       "      <td>Trunk</td>\n",
       "      <td>1999-11-17 14:58:26 -0800</td>\n",
       "      <td>2013-01-29 11:48:39 -0800</td>\n",
       "      <td>[0.0067006177, -0.0040191724, -0.031814296, 0....</td>\n",
       "    </tr>\n",
       "    <tr>\n",
       "      <th>54746</th>\n",
       "      <td>P3</td>\n",
       "      <td>Preferences</td>\n",
       "      <td>[]</td>\n",
       "      <td>Language encodings in font prefs dialog not so...</td>\n",
       "      <td>Language encodings are listed in a seemingly r...</td>\n",
       "      <td>RESOLVED</td>\n",
       "      <td>WORKSFORME</td>\n",
       "      <td>Trunk</td>\n",
       "      <td>2000-09-29 14:12:11 -0700</td>\n",
       "      <td>2013-02-27 15:47:29 -0800</td>\n",
       "      <td>[0.013975114, -0.027381923, 0.012256341, 0.063...</td>\n",
       "    </tr>\n",
       "    <tr>\n",
       "      <th>56892</th>\n",
       "      <td>P3</td>\n",
       "      <td>General</td>\n",
       "      <td>[]</td>\n",
       "      <td>Synaptics touchpad scrolling not working</td>\n",
       "      <td>From Bugzilla Helper:; User-Agent: Mozilla/5.0...</td>\n",
       "      <td>RESOLVED</td>\n",
       "      <td>WORKSFORME</td>\n",
       "      <td>unspecified</td>\n",
       "      <td>2000-10-16 14:48:15 -0700</td>\n",
       "      <td>2009-10-14 11:38:29 -0700</td>\n",
       "      <td>[0.002355588, 0.039769035, 0.0009729369, 0.016...</td>\n",
       "    </tr>\n",
       "  </tbody>\n",
       "</table>\n",
       "</div>"
      ],
      "text/plain": [
       "       priority    component  dup_id  \\\n",
       "bug_id                                 \n",
       "10954        P3  Preferences      []   \n",
       "14871        --      General  269442   \n",
       "19118        --  Preferences      []   \n",
       "54746        P3  Preferences      []   \n",
       "56892        P3      General      []   \n",
       "\n",
       "                                               short_desc  \\\n",
       "bug_id                                                      \n",
       "10954      Dialup properties needs to be exposed in prefs   \n",
       "14871                         [Find] Find whole word only   \n",
       "19118   Plug-In Manager (ui for choosing mimetype-plug...   \n",
       "54746   Language encodings in font prefs dialog not so...   \n",
       "56892            Synaptics touchpad scrolling not working   \n",
       "\n",
       "                                              description bug_status  \\\n",
       "bug_id                                                                 \n",
       "10954   The dialup properties of the profile should be...   RESOLVED   \n",
       "14871   Please add Match Whole Word Only option to bro...   RESOLVED   \n",
       "19118   I would really like a plug-in manager for my b...   RESOLVED   \n",
       "54746   Language encodings are listed in a seemingly r...   RESOLVED   \n",
       "56892   From Bugzilla Helper:; User-Agent: Mozilla/5.0...   RESOLVED   \n",
       "\n",
       "        resolution      version                creation_ts  \\\n",
       "bug_id                                                       \n",
       "10954      WONTFIX        Trunk  1999-07-30 15:55:51 -0700   \n",
       "14871    DUPLICATE        Trunk  1999-09-24 14:49:34 -0700   \n",
       "19118      WONTFIX        Trunk  1999-11-17 14:58:26 -0800   \n",
       "54746   WORKSFORME        Trunk  2000-09-29 14:12:11 -0700   \n",
       "56892   WORKSFORME  unspecified  2000-10-16 14:48:15 -0700   \n",
       "\n",
       "                         delta_ts  \\\n",
       "bug_id                              \n",
       "10954   2008-05-14 11:44:15 -0700   \n",
       "14871   2011-10-05 16:35:31 -0700   \n",
       "19118   2013-01-29 11:48:39 -0800   \n",
       "54746   2013-02-27 15:47:29 -0800   \n",
       "56892   2009-10-14 11:38:29 -0700   \n",
       "\n",
       "                                        all-mpnet-base-v2  \n",
       "bug_id                                                     \n",
       "10954   [-0.011274192, 0.09213826, -0.010780337, -0.03...  \n",
       "14871   [0.02882544, 0.049673, -0.0020014888, 0.043006...  \n",
       "19118   [0.0067006177, -0.0040191724, -0.031814296, 0....  \n",
       "54746   [0.013975114, -0.027381923, 0.012256341, 0.063...  \n",
       "56892   [0.002355588, 0.039769035, 0.0009729369, 0.016...  "
      ]
     },
     "execution_count": 11,
     "metadata": {},
     "output_type": "execute_result"
    }
   ],
   "source": [
    "reports_firefox_test.head()"
   ]
  },
  {
   "cell_type": "code",
   "execution_count": 11,
   "metadata": {},
   "outputs": [
    {
     "name": "stdout",
     "output_type": "stream",
     "text": [
      "110894\n"
     ]
    },
    {
     "name": "stderr",
     "output_type": "stream",
     "text": [
      "C:\\Users\\lpros\\AppData\\Local\\Temp\\ipykernel_14836\\2216721754.py:7: FutureWarning: Series.__getitem__ treating keys as positions is deprecated. In a future version, integer keys will always be treated as labels (consistent with DataFrame behavior). To access a value by position, use `ser.iloc[pos]`\n",
      "  bug_id = row[0]\n",
      "C:\\Users\\lpros\\AppData\\Local\\Temp\\ipykernel_14836\\2216721754.py:9: FutureWarning: Series.__getitem__ treating keys as positions is deprecated. In a future version, integer keys will always be treated as labels (consistent with DataFrame behavior). To access a value by position, use `ser.iloc[pos]`\n",
      "  if ( not pd.isna(row[1])):\n",
      "C:\\Users\\lpros\\AppData\\Local\\Temp\\ipykernel_14836\\2216721754.py:13: FutureWarning: Series.__getitem__ treating keys as positions is deprecated. In a future version, integer keys will always be treated as labels (consistent with DataFrame behavior). To access a value by position, use `ser.iloc[pos]`\n",
      "  int(x) for x in row[1].split(\";\") if int(x) in reports_firefox_test.index\n"
     ]
    },
    {
     "data": {
      "text/plain": [
       "{178756}"
      ]
     },
     "execution_count": 11,
     "metadata": {},
     "output_type": "execute_result"
    }
   ],
   "source": [
    "i = 0\n",
    "duplicate_ids = []\n",
    "bug_id = 0\n",
    "count = 0\n",
    "for index, row in relations_firefox.iterrows():\n",
    "\n",
    "    bug_id = row[0]\n",
    "\n",
    "    if ( not pd.isna(row[1])):\n",
    "\n",
    "        if (count == 7):\n",
    "            duplicate_ids = [\n",
    "                int(x) for x in row[1].split(\";\") if int(x) in reports_firefox_test.index\n",
    "            ]\n",
    "\n",
    "            duplicate_ids = set(duplicate_ids)\n",
    "            break\n",
    "        else:\n",
    "            count+=1\n",
    "\n",
    "print(bug_id)\n",
    "    \n",
    "        \n",
    "duplicate_ids"
   ]
  },
  {
   "cell_type": "code",
   "execution_count": 12,
   "metadata": {},
   "outputs": [
    {
     "data": {
      "text/plain": [
       "pandas.core.series.Series"
      ]
     },
     "execution_count": 12,
     "metadata": {},
     "output_type": "execute_result"
    }
   ],
   "source": [
    "prompt = reports_firefox_test.loc[bug_id]\n",
    "prompt\n",
    "type(row)"
   ]
  },
  {
   "cell_type": "code",
   "execution_count": 14,
   "metadata": {},
   "outputs": [
    {
     "data": {
      "text/plain": [
       "1.0"
      ]
     },
     "execution_count": 14,
     "metadata": {},
     "output_type": "execute_result"
    }
   ],
   "source": [
    "tools.rr_k(prompt=prompt, df=reports_firefox_test, model_name=model_name, duplicate_ids=duplicate_ids, k=10)"
   ]
  },
  {
   "cell_type": "code",
   "execution_count": null,
   "metadata": {},
   "outputs": [],
   "source": []
  }
 ],
 "metadata": {
  "kernelspec": {
   "display_name": "Python 3",
   "language": "python",
   "name": "python3"
  },
  "language_info": {
   "codemirror_mode": {
    "name": "ipython",
    "version": 3
   },
   "file_extension": ".py",
   "mimetype": "text/x-python",
   "name": "python",
   "nbconvert_exporter": "python",
   "pygments_lexer": "ipython3",
   "version": "3.10.7"
  }
 },
 "nbformat": 4,
 "nbformat_minor": 2
}
